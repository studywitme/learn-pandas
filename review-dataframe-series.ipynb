{
 "cells": [
  {
   "cell_type": "code",
   "execution_count": 1,
   "id": "b698c2d2",
   "metadata": {},
   "outputs": [],
   "source": [
    "import pandas as pd"
   ]
  },
  {
   "cell_type": "code",
   "execution_count": 14,
   "id": "551267c5",
   "metadata": {},
   "outputs": [
    {
     "data": {
      "text/html": [
       "<div>\n",
       "<style scoped>\n",
       "    .dataframe tbody tr th:only-of-type {\n",
       "        vertical-align: middle;\n",
       "    }\n",
       "\n",
       "    .dataframe tbody tr th {\n",
       "        vertical-align: top;\n",
       "    }\n",
       "\n",
       "    .dataframe thead th {\n",
       "        text-align: right;\n",
       "    }\n",
       "</style>\n",
       "<table border=\"1\" class=\"dataframe\">\n",
       "  <thead>\n",
       "    <tr style=\"text-align: right;\">\n",
       "      <th></th>\n",
       "      <th>Thời gian</th>\n",
       "      <th>Monday</th>\n",
       "    </tr>\n",
       "  </thead>\n",
       "  <tbody>\n",
       "    <tr>\n",
       "      <th>0</th>\n",
       "      <td>07h00 - 07h30</td>\n",
       "      <td>Tập đọc</td>\n",
       "    </tr>\n",
       "    <tr>\n",
       "      <th>1</th>\n",
       "      <td>07h30 - 08h00</td>\n",
       "      <td>Toán</td>\n",
       "    </tr>\n",
       "    <tr>\n",
       "      <th>2</th>\n",
       "      <td>08h00 - 08h30</td>\n",
       "      <td>Chính tả</td>\n",
       "    </tr>\n",
       "    <tr>\n",
       "      <th>3</th>\n",
       "      <td>08h30 - 09h00</td>\n",
       "      <td>Địa lý</td>\n",
       "    </tr>\n",
       "  </tbody>\n",
       "</table>\n",
       "</div>"
      ],
      "text/plain": [
       "       Thời gian    Monday\n",
       "0  07h00 - 07h30   Tập đọc\n",
       "1  07h30 - 08h00      Toán\n",
       "2  08h00 - 08h30  Chính tả\n",
       "3  08h30 - 09h00    Địa lý"
      ]
     },
     "execution_count": 14,
     "metadata": {},
     "output_type": "execute_result"
    }
   ],
   "source": [
    "df = pd.DataFrame(\n",
    "    {\n",
    "        \"Thời gian\": [\"07h00 - 07h30\",\n",
    "                     \"07h30 - 08h00\",\n",
    "                     \"08h00 - 08h30\",\n",
    "                     \"08h30 - 09h00\"],\n",
    "        \"Monday\":[\"Tập đọc\",\n",
    "                  \"Toán\",\n",
    "                 \"Chính tả\",\n",
    "                 \"Địa lý\"]\n",
    "    }\n",
    "        \n",
    ")\n",
    "df"
   ]
  },
  {
   "cell_type": "code",
   "execution_count": 13,
   "id": "ad0cc8c9",
   "metadata": {},
   "outputs": [],
   "source": [
    "s = pd.Series([\"Tập đọc\",\"Toán\",\"Chính tả\",\"Địa lý\"],name=\"Monday\")"
   ]
  },
  {
   "cell_type": "code",
   "execution_count": 11,
   "id": "3fe8ff00",
   "metadata": {},
   "outputs": [
    {
     "data": {
      "text/plain": [
       "0     Tập đọc\n",
       "1        Toán\n",
       "2    Chính tả\n",
       "3      Địa lý\n",
       "Name: Monday, dtype: object"
      ]
     },
     "execution_count": 11,
     "metadata": {},
     "output_type": "execute_result"
    }
   ],
   "source": [
    "s"
   ]
  },
  {
   "cell_type": "code",
   "execution_count": null,
   "id": "d6a8c900",
   "metadata": {},
   "outputs": [],
   "source": []
  }
 ],
 "metadata": {
  "kernelspec": {
   "display_name": "Python 3",
   "language": "python",
   "name": "python3"
  },
  "language_info": {
   "codemirror_mode": {
    "name": "ipython",
    "version": 3
   },
   "file_extension": ".py",
   "mimetype": "text/x-python",
   "name": "python",
   "nbconvert_exporter": "python",
   "pygments_lexer": "ipython3",
   "version": "3.8.8"
  }
 },
 "nbformat": 4,
 "nbformat_minor": 5
}
